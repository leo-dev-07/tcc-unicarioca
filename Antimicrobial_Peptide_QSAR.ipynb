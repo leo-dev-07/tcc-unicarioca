{
 "cells": [
  {
   "cell_type": "markdown",
   "metadata": {
    "id": "OyuUpByeMFCW"
   },
   "source": [
    "# **Predicting Activity of Short Antimicrobial Peptides**\n",
    "\n",
    "Jupyter notebook by [Chanin Nantasenamat](https://medium.com/@chanin.nantasenamat) (aka [Data Professor](http://youtube.com/dataprofessor)\n",
    "\n",
    "Dataset:\n",
    "[Paper](https://www.cell.com/molecular-therapy-family/nucleic-acids/fulltext/S2162-2531(20)30132-3) | [Dataset](https://cbbio.online/AxPEP/?action=dataset)"
   ]
  },
  {
   "cell_type": "markdown",
   "metadata": {
    "id": "2E2XwwoUWbtw"
   },
   "source": [
    "# **Install conda**"
   ]
  },
  {
   "cell_type": "code",
   "execution_count": null,
   "metadata": {
    "colab": {
     "base_uri": "https://localhost:8080/"
    },
    "executionInfo": {
     "elapsed": 22338,
     "status": "ok",
     "timestamp": 1694784290053,
     "user": {
      "displayName": "Leonardo de Oliveira Paschoal",
      "userId": "07757218287866540915"
     },
     "user_tz": 180
    },
    "id": "jfYwjDE9Wewj",
    "outputId": "ada21af5-aa4a-42a5-ed0b-731a2fcf1339"
   },
   "outputs": [],
   "source": [
    "################################################################################\n",
    "# INSTALL CONDA ON GOOGLE COLAB\n",
    "################################################################################\n",
    "#% wget https://repo.anaconda.com/miniconda/Miniconda3-py37_4.8.2-Linux-x86_64.sh\n",
    "#% chmod +x Miniconda3-py37_4.8.2-Linux-x86_64.sh\n",
    "#% bash ./Miniconda3-py37_4.8.2-Linux-x86_64.sh -b -f -p /umsr/local\n",
    "#import sys\n",
    "#sys.path.append('/usr/local/lib/python3.9.12/site-packages/')\n",
    "#pip uninstall snappy python-snappy -y\n",
    "#! pip install python-snappy -y"
   ]
  },
  {
   "cell_type": "markdown",
   "metadata": {
    "id": "-XUPajcl5Xug"
   },
   "source": [
    "# **Download and Install Pfeature**"
   ]
  },
  {
   "cell_type": "code",
   "execution_count": null,
   "metadata": {
    "colab": {
     "base_uri": "https://localhost:8080/"
    },
    "executionInfo": {
     "elapsed": 19,
     "status": "ok",
     "timestamp": 1694784290054,
     "user": {
      "displayName": "Leonardo de Oliveira Paschoal",
      "userId": "07757218287866540915"
     },
     "user_tz": 180
    },
    "id": "t5809Cl51Ogn",
    "outputId": "02ca623a-1b43-42d0-c738-407297bcef10"
   },
   "outputs": [],
   "source": [
    "! wget https://github.com/raghavagps/Pfeature/raw/master/PyLib/Pfeature.zip"
   ]
  },
  {
   "cell_type": "code",
   "execution_count": null,
   "metadata": {
    "colab": {
     "base_uri": "https://localhost:8080/"
    },
    "executionInfo": {
     "elapsed": 800,
     "status": "ok",
     "timestamp": 1694784290839,
     "user": {
      "displayName": "Leonardo de Oliveira Paschoal",
      "userId": "07757218287866540915"
     },
     "user_tz": 180
    },
    "id": "TzCcA2aJ2MTA",
    "outputId": "10df7319-ac8e-4c38-9b0b-d88c458e20b4"
   },
   "outputs": [],
   "source": [
    "#% unzip Pfeature.zip"
   ]
  },
  {
   "cell_type": "code",
   "execution_count": null,
   "metadata": {
    "colab": {
     "base_uri": "https://localhost:8080/"
    },
    "executionInfo": {
     "elapsed": 6,
     "status": "ok",
     "timestamp": 1694784290839,
     "user": {
      "displayName": "Leonardo de Oliveira Paschoal",
      "userId": "07757218287866540915"
     },
     "user_tz": 180
    },
    "id": "Db0F7cjQ1aZF",
    "outputId": "59680c40-6b1f-4c68-c29e-2af0adb3c5ea"
   },
   "outputs": [],
   "source": [
    "cd Pfeature"
   ]
  },
  {
   "cell_type": "code",
   "execution_count": null,
   "metadata": {
    "colab": {
     "base_uri": "https://localhost:8080/"
    },
    "executionInfo": {
     "elapsed": 5,
     "status": "ok",
     "timestamp": 1694784290840,
     "user": {
      "displayName": "Leonardo de Oliveira Paschoal",
      "userId": "07757218287866540915"
     },
     "user_tz": 180
    },
    "id": "Es6GHcJU2ncB",
    "outputId": "89e5e700-b943-43f1-dddc-9ba232921b0e"
   },
   "outputs": [],
   "source": [
    "#! python setup.py install"
   ]
  },
  {
   "cell_type": "markdown",
   "metadata": {
    "id": "RyAd8gHWP2IB"
   },
   "source": [
    "# **Install CD-HIT**"
   ]
  },
  {
   "cell_type": "code",
   "execution_count": null,
   "metadata": {
    "colab": {
     "base_uri": "https://localhost:8080/"
    },
    "executionInfo": {
     "elapsed": 59308,
     "status": "ok",
     "timestamp": 1694784350145,
     "user": {
      "displayName": "Leonardo de Oliveira Paschoal",
      "userId": "07757218287866540915"
     },
     "user_tz": 180
    },
    "id": "Q3UMOU6yTYwk",
    "outputId": "5721888c-2f6c-4887-f5c1-584bc16c847d"
   },
   "outputs": [],
   "source": [
    "#! conda install -c bioconda cd-hit -y\n",
    "#! conda install -c scipy -y\n",
    "#! pip install lazypredict\n",
    "#! pip uninstall scikit-learn -y\n",
    "#! pip install scikit-learn==0.23.1\n"
   ]
  },
  {
   "cell_type": "markdown",
   "metadata": {
    "id": "mZYPeKm97sFk"
   },
   "source": [
    "# **Load peptide dataset**"
   ]
  },
  {
   "cell_type": "code",
   "execution_count": null,
   "metadata": {
    "colab": {
     "base_uri": "https://localhost:8080/"
    },
    "executionInfo": {
     "elapsed": 399,
     "status": "ok",
     "timestamp": 1694784350541,
     "user": {
      "displayName": "Leonardo de Oliveira Paschoal",
      "userId": "07757218287866540915"
     },
     "user_tz": 180
    },
    "id": "XGNZ-_0JB68Z",
    "outputId": "4e955bf0-1f43-4d1d-e2b8-5c52b1233724"
   },
   "outputs": [],
   "source": [
    "! wget https://raw.githubusercontent.com/dataprofessor/AMP/main/train_po.fasta"
   ]
  },
  {
   "cell_type": "code",
   "execution_count": null,
   "metadata": {
    "colab": {
     "base_uri": "https://localhost:8080/"
    },
    "executionInfo": {
     "elapsed": 5,
     "status": "ok",
     "timestamp": 1694784350541,
     "user": {
      "displayName": "Leonardo de Oliveira Paschoal",
      "userId": "07757218287866540915"
     },
     "user_tz": 180
    },
    "id": "FA6Vue0LD0_t",
    "outputId": "c8b598d6-00d5-43f1-890d-edc5056d29f5"
   },
   "outputs": [],
   "source": [
    "! wget https://raw.githubusercontent.com/dataprofessor/AMP/main/train_ne.fasta"
   ]
  },
  {
   "cell_type": "code",
   "execution_count": null,
   "metadata": {
    "colab": {
     "base_uri": "https://localhost:8080/"
    },
    "executionInfo": {
     "elapsed": 329,
     "status": "ok",
     "timestamp": 1694784350868,
     "user": {
      "displayName": "Leonardo de Oliveira Paschoal",
      "userId": "07757218287866540915"
     },
     "user_tz": 180
    },
    "id": "685FLTT_AkBB",
    "outputId": "b54d96dd-a34b-4223-b9e2-70613e944a74"
   },
   "outputs": [],
   "source": [
    "! cat train_ne.fasta"
   ]
  },
  {
   "cell_type": "markdown",
   "metadata": {
    "id": "Djpac1bjQvRp"
   },
   "source": [
    "# **Remove redundant sequences using CD-HIT**"
   ]
  },
  {
   "cell_type": "code",
   "execution_count": null,
   "metadata": {
    "colab": {
     "base_uri": "https://localhost:8080/"
    },
    "executionInfo": {
     "elapsed": 7,
     "status": "ok",
     "timestamp": 1694784351140,
     "user": {
      "displayName": "Leonardo de Oliveira Paschoal",
      "userId": "07757218287866540915"
     },
     "user_tz": 180
    },
    "id": "Y5fRRDbNQ0Ov",
    "outputId": "f3031979-f57d-4c9d-fde3-0198b25c3456"
   },
   "outputs": [],
   "source": [
    "! cd-hit -i train_po.fasta -o train_po_cdhit.txt -c 0.99"
   ]
  },
  {
   "cell_type": "code",
   "execution_count": null,
   "metadata": {
    "colab": {
     "base_uri": "https://localhost:8080/"
    },
    "executionInfo": {
     "elapsed": 267,
     "status": "ok",
     "timestamp": 1694784351404,
     "user": {
      "displayName": "Leonardo de Oliveira Paschoal",
      "userId": "07757218287866540915"
     },
     "user_tz": 180
    },
    "id": "vh-yduYRFJhX",
    "outputId": "e1619678-ac37-41a4-d2f1-3fc5e34928ed"
   },
   "outputs": [],
   "source": [
    "! cd-hit -i train_ne.fasta -o train_ne_cdhit.txt -c 0.99"
   ]
  },
  {
   "cell_type": "code",
   "execution_count": null,
   "metadata": {
    "colab": {
     "base_uri": "https://localhost:8080/"
    },
    "executionInfo": {
     "elapsed": 11,
     "status": "ok",
     "timestamp": 1694784351404,
     "user": {
      "displayName": "Leonardo de Oliveira Paschoal",
      "userId": "07757218287866540915"
     },
     "user_tz": 180
    },
    "id": "tWnEDNohYpF1",
    "outputId": "6e810d3d-8090-4539-83d5-cacb4fdc4b5d"
   },
   "outputs": [],
   "source": [
    "! ls -l"
   ]
  },
  {
   "cell_type": "code",
   "execution_count": null,
   "metadata": {
    "colab": {
     "base_uri": "https://localhost:8080/"
    },
    "executionInfo": {
     "elapsed": 8,
     "status": "ok",
     "timestamp": 1694784351405,
     "user": {
      "displayName": "Leonardo de Oliveira Paschoal",
      "userId": "07757218287866540915"
     },
     "user_tz": 180
    },
    "id": "CvjECuCMeUs7",
    "outputId": "4af07127-378b-444c-bb37-3deecaf89347"
   },
   "outputs": [],
   "source": [
    "! grep \">\" train_po_cdhit.txt | wc -l"
   ]
  },
  {
   "cell_type": "code",
   "execution_count": null,
   "metadata": {
    "colab": {
     "base_uri": "https://localhost:8080/"
    },
    "executionInfo": {
     "elapsed": 5,
     "status": "ok",
     "timestamp": 1694784351405,
     "user": {
      "displayName": "Leonardo de Oliveira Paschoal",
      "userId": "07757218287866540915"
     },
     "user_tz": 180
    },
    "id": "eepRGc0sEcpQ",
    "outputId": "2e4365bd-6edd-491c-f86b-4fc5f3fdfd95"
   },
   "outputs": [],
   "source": [
    "! grep \">\" train_po.fasta | wc -l"
   ]
  },
  {
   "cell_type": "code",
   "execution_count": null,
   "metadata": {
    "colab": {
     "base_uri": "https://localhost:8080/"
    },
    "executionInfo": {
     "elapsed": 8,
     "status": "ok",
     "timestamp": 1694784351663,
     "user": {
      "displayName": "Leonardo de Oliveira Paschoal",
      "userId": "07757218287866540915"
     },
     "user_tz": 180
    },
    "id": "jLqHmYNeGLHM",
    "outputId": "a1f05646-4bac-4f75-a3e3-83d92001b390"
   },
   "outputs": [],
   "source": [
    "! grep \">\" train_ne.fasta | wc -l"
   ]
  },
  {
   "cell_type": "code",
   "execution_count": null,
   "metadata": {
    "colab": {
     "base_uri": "https://localhost:8080/"
    },
    "executionInfo": {
     "elapsed": 5,
     "status": "ok",
     "timestamp": 1694784351664,
     "user": {
      "displayName": "Leonardo de Oliveira Paschoal",
      "userId": "07757218287866540915"
     },
     "user_tz": 180
    },
    "id": "A9iPIi9cFRxW",
    "outputId": "bf4b8ed4-e044-4230-d41a-090d43245fbb"
   },
   "outputs": [],
   "source": [
    "! grep \">\" train_ne_cdhit.txt | wc -l"
   ]
  },
  {
   "cell_type": "code",
   "execution_count": null,
   "metadata": {},
   "outputs": [],
   "source": []
  },
  {
   "cell_type": "markdown",
   "metadata": {
    "id": "BQHwqXaV5eTe"
   },
   "source": [
    "# **Calculate features using the Pfeature library**\n",
    "\n",
    "Feature classes provided by Pfeature is summarized in the tables below.\n",
    "\n",
    "**Composition Based Features**\n",
    "\n",
    "Feature claass | Description | Function\n",
    "---|---|---\n",
    "AAC | Amino acid composition | aac_wp\n",
    "DPC | Dipeptide composition | dpc_wp\n",
    "TPC | Tripeptide composition | tpc_wp\n",
    "ABC | Atom and bond composition | atc_wp, btc_wp\n",
    "PCP | Physico-chemical properties | pcp_wp\n",
    "AAI | Amino acid index composition | aai_wp\n",
    "RRI | Repetitive Residue Information | rri_wp\n",
    "DDR | Distance distribution of residues |ddr_wp\n",
    "PRI | Physico-chemical properties repeat composition | pri_wp\n",
    "SEP | Shannon entropy | sep_wp\n",
    "SER | Shannon entropy of residue level | ser_wp\n",
    "SPC | Shannon entropy of physicochemical property | spc_wp\n",
    "ACR | Autocorrelation | acr_wp\n",
    "CTC | Conjoint Triad Calculation | ctc_wp\n",
    "CTD | Composition enhanced transition distribution | ctd_wp\n",
    "PAAC | Pseudo amino acid composition | paac_wp\n",
    "APAAC | Amphiphilic pseudo amino acid composition | apaac_wp\n",
    "QSO | Quasi sequence order | qos_wp\n",
    "SOC | Sequence order coupling | soc_wp\n",
    "\n",
    "[Pfeature Manual](https://webs.iiitd.edu.in/raghava/pfeature/Pfeature_Manual.pdf)"
   ]
  },
  {
   "cell_type": "markdown",
   "metadata": {
    "id": "2uMB1M0-tJNx"
   },
   "source": [
    "### **Define functions for calculating the different features**"
   ]
  },
  {
   "cell_type": "code",
   "execution_count": null,
   "metadata": {
    "executionInfo": {
     "elapsed": 993,
     "status": "ok",
     "timestamp": 1694784352654,
     "user": {
      "displayName": "Leonardo de Oliveira Paschoal",
      "userId": "07757218287866540915"
     },
     "user_tz": 180
    },
    "id": "upc65MklPhS7"
   },
   "outputs": [],
   "source": [
    "import pandas as pd"
   ]
  },
  {
   "cell_type": "code",
   "execution_count": null,
   "metadata": {
    "colab": {
     "base_uri": "https://localhost:8080/",
     "height": 424
    },
    "executionInfo": {
     "elapsed": 7143,
     "status": "ok",
     "timestamp": 1694784359795,
     "user": {
      "displayName": "Leonardo de Oliveira Paschoal",
      "userId": "07757218287866540915"
     },
     "user_tz": 180
    },
    "id": "fKGeLJAmbaWV",
    "outputId": "00b28505-631b-4768-8856-19b03cd14c02"
   },
   "outputs": [],
   "source": [
    "# Amino acid composition (AAC)\n",
    "\n",
    "from Pfeature.pfeature import aac_wp\n",
    "\n",
    "def aac(input):\n",
    "  a = input.rstrip('txt')\n",
    "  output = a + 'aac.csv'\n",
    "  df_out = aac_wp(input, output)\n",
    "  df_in = pd.read_csv(output)\n",
    "  return df_in\n",
    "\n",
    "aac('train_po_cdhit.txt')"
   ]
  },
  {
   "cell_type": "code",
   "execution_count": null,
   "metadata": {
    "colab": {
     "base_uri": "https://localhost:8080/",
     "height": 444
    },
    "executionInfo": {
     "elapsed": 83198,
     "status": "ok",
     "timestamp": 1694784442990,
     "user": {
      "displayName": "Leonardo de Oliveira Paschoal",
      "userId": "07757218287866540915"
     },
     "user_tz": 180
    },
    "id": "4TRL0i6vSooe",
    "outputId": "83fff37c-04cf-4751-de6d-2f3ed425d34f"
   },
   "outputs": [],
   "source": [
    "# Dipeptide composition (DPC)\n",
    "\n",
    "from Pfeature.pfeature import dpc_wp\n",
    "\n",
    "def dpc(input):\n",
    "  a = input.rstrip('txt')\n",
    "  output = a + 'dpc.csv'\n",
    "  df_out = dpc_wp(input, output, 1)\n",
    "  df_in = pd.read_csv(output)\n",
    "  return df_in\n",
    "\n",
    "feature = dpc('train_po_cdhit.txt')\n",
    "feature"
   ]
  },
  {
   "cell_type": "markdown",
   "metadata": {
    "id": "-LFnEW2P8HJ_"
   },
   "source": [
    "### **Calculate feature for both positive and negative classes + combines the two classes + merge with class labels**"
   ]
  },
  {
   "cell_type": "code",
   "execution_count": null,
   "metadata": {
    "colab": {
     "base_uri": "https://localhost:8080/",
     "height": 424
    },
    "executionInfo": {
     "elapsed": 521,
     "status": "ok",
     "timestamp": 1694784443508,
     "user": {
      "displayName": "Leonardo de Oliveira Paschoal",
      "userId": "07757218287866540915"
     },
     "user_tz": 180
    },
    "id": "byXTW1Zi42S4",
    "outputId": "b2096280-8ba2-495b-c456-f09af248bfd8"
   },
   "outputs": [],
   "source": [
    "pos = 'train_po_cdhit.txt'\n",
    "neg = 'train_ne_cdhit.txt'\n",
    "\n",
    "def feature_calc(po, ne, feature_name):\n",
    "  # Calculate feature\n",
    "  po_feature = feature_name(po)\n",
    "  ne_feature = feature_name(ne)\n",
    "  # Create class labels\n",
    "  po_class = pd.Series(['positive' for i in range(len(po_feature))])\n",
    "  ne_class = pd.Series(['negative' for i in range(len(ne_feature))])\n",
    "  # Combine po and ne\n",
    "  po_ne_class = pd.concat([po_class, ne_class], axis=0)\n",
    "  po_ne_class.name = 'class'\n",
    "  po_ne_feature = pd.concat([po_feature, ne_feature], axis=0)\n",
    "  # Combine feature and class\n",
    "  df = pd.concat([po_ne_feature, po_ne_class], axis=1)\n",
    "  return df\n",
    "\n",
    "feature = feature_calc(pos, neg, aac) # AAC\n",
    "#feature = feature_calc(pos, neg, dpc) # DPC\n",
    "feature"
   ]
  },
  {
   "cell_type": "markdown",
   "metadata": {
    "id": "H9MRC7xR8eJi"
   },
   "source": [
    "# **Data pre-processing**"
   ]
  },
  {
   "cell_type": "code",
   "execution_count": null,
   "metadata": {
    "colab": {
     "base_uri": "https://localhost:8080/",
     "height": 424
    },
    "executionInfo": {
     "elapsed": 11,
     "status": "ok",
     "timestamp": 1694784443509,
     "user": {
      "displayName": "Leonardo de Oliveira Paschoal",
      "userId": "07757218287866540915"
     },
     "user_tz": 180
    },
    "id": "qtMfXpCzFyWC",
    "outputId": "d265e5a6-af6b-49b9-d822-5f97181f0524",
    "scrolled": true
   },
   "outputs": [],
   "source": [
    "feature"
   ]
  },
  {
   "cell_type": "code",
   "execution_count": null,
   "metadata": {
    "executionInfo": {
     "elapsed": 10,
     "status": "ok",
     "timestamp": 1694784443509,
     "user": {
      "displayName": "Leonardo de Oliveira Paschoal",
      "userId": "07757218287866540915"
     },
     "user_tz": 180
    },
    "id": "rJXKLewidNOx"
   },
   "outputs": [],
   "source": [
    "# Assigns the features to X and class label to Y\n",
    "X = feature.drop('class', axis=1)\n",
    "y = feature['class'].copy()"
   ]
  },
  {
   "cell_type": "code",
   "execution_count": null,
   "metadata": {
    "executionInfo": {
     "elapsed": 9,
     "status": "ok",
     "timestamp": 1694784443509,
     "user": {
      "displayName": "Leonardo de Oliveira Paschoal",
      "userId": "07757218287866540915"
     },
     "user_tz": 180
    },
    "id": "F6vgehkJDNNq"
   },
   "outputs": [],
   "source": [
    "# Encoding the Y class label\n",
    "y = y.map({\"positive\": 1, \"negative\": 0})"
   ]
  },
  {
   "cell_type": "code",
   "execution_count": null,
   "metadata": {
    "colab": {
     "base_uri": "https://localhost:8080/"
    },
    "executionInfo": {
     "elapsed": 10,
     "status": "ok",
     "timestamp": 1694784443510,
     "user": {
      "displayName": "Leonardo de Oliveira Paschoal",
      "userId": "07757218287866540915"
     },
     "user_tz": 180
    },
    "id": "e-stJs6tp_xQ",
    "outputId": "67eee21c-69ad-48e4-b22b-2117f6718714"
   },
   "outputs": [],
   "source": [
    "X.shape"
   ]
  },
  {
   "cell_type": "code",
   "execution_count": null,
   "metadata": {},
   "outputs": [],
   "source": [
    "! conda install scipy -y\n",
    "! conda install sklearn -y\n"
   ]
  },
  {
   "cell_type": "code",
   "execution_count": null,
   "metadata": {
    "colab": {
     "base_uri": "https://localhost:8080/",
     "height": 424
    },
    "executionInfo": {
     "elapsed": 1491,
     "status": "ok",
     "timestamp": 1694784444994,
     "user": {
      "displayName": "Leonardo de Oliveira Paschoal",
      "userId": "07757218287866540915"
     },
     "user_tz": 180
    },
    "id": "4fhK1P57w64J",
    "outputId": "976d5471-80e6-4e0e-903c-18feaed183d2"
   },
   "outputs": [],
   "source": [
    "# Feature selection (Variance threshold)\n",
    "from sklearn.feature_selection import VarianceThreshold\n",
    "\n",
    "fs = VarianceThreshold(threshold=0.1)\n",
    "fs.fit_transform(X)\n",
    "#X2.shape\n",
    "X2 = X.loc[:, fs.get_support()]\n",
    "X2"
   ]
  },
  {
   "cell_type": "code",
   "execution_count": null,
   "metadata": {
    "executionInfo": {
     "elapsed": 11,
     "status": "ok",
     "timestamp": 1694784444995,
     "user": {
      "displayName": "Leonardo de Oliveira Paschoal",
      "userId": "07757218287866540915"
     },
     "user_tz": 180
    },
    "id": "k6DyYgenBRML"
   },
   "outputs": [],
   "source": [
    "# Data split\n",
    "from sklearn.model_selection import train_test_split\n",
    "\n",
    "X_train, X_test, y_train, y_test = train_test_split(X2, y, test_size=0.2, random_state =42, stratify=y)"
   ]
  },
  {
   "cell_type": "markdown",
   "metadata": {
    "id": "yMZ7SIQPbSkl"
   },
   "source": [
    "---"
   ]
  },
  {
   "cell_type": "markdown",
   "metadata": {
    "id": "RewWucDQbTo3"
   },
   "source": [
    "# **Quickly compare >30 ML algorithms**"
   ]
  },
  {
   "cell_type": "code",
   "execution_count": null,
   "metadata": {},
   "outputs": [],
   "source": [
    "# conda install libomp -y\n",
    "#! pip install lightgbm\n",
    "\n",
    "\n"
   ]
  },
  {
   "cell_type": "code",
   "execution_count": null,
   "metadata": {
    "colab": {
     "base_uri": "https://localhost:8080/"
    },
    "executionInfo": {
     "elapsed": 147143,
     "status": "ok",
     "timestamp": 1694807431657,
     "user": {
      "displayName": "Leonardo de Oliveira Paschoal",
      "userId": "07757218287866540915"
     },
     "user_tz": 180
    },
    "id": "kh-nDFnTbT-J",
    "outputId": "f217fbe1-7e45-4c8d-d27f-0bdd7bca57fa"
   },
   "outputs": [],
   "source": [
    "\n",
    "# Import libraries\n",
    "import lazypredict\n",
    "from lazypredict.Supervised import LazyClassifier\n",
    "from sklearn.model_selection import train_test_split\n",
    "from sklearn.metrics import matthews_corrcoef\n"
   ]
  },
  {
   "cell_type": "code",
   "execution_count": null,
   "metadata": {
    "colab": {
     "base_uri": "https://localhost:8080/",
     "height": 393
    },
    "executionInfo": {
     "elapsed": 259,
     "status": "error",
     "timestamp": 1694784694467,
     "user": {
      "displayName": "Leonardo de Oliveira Paschoal",
      "userId": "07757218287866540915"
     },
     "user_tz": 180
    },
    "id": "01B14Lz2bdMn",
    "outputId": "b427c21a-6b88-45ad-ecc0-da0d19b7c8bf"
   },
   "outputs": [],
   "source": [
    "# Load dataset\n",
    "X = feature.drop('class', axis=1)\n",
    "y = feature['class'].copy()\n",
    "\n",
    "# Data split\n",
    "X_train, X_test, y_train, y_test = train_test_split(X, y, test_size=0.2, random_state =42, stratify=y)\n",
    "\n",
    "# Defines and builds the lazyclassifier\n",
    "clf = LazyClassifier(verbose=0,ignore_warnings=True, custom_metric=matthews_corrcoef)\n",
    "models_train,predictions_train = clf.fit(X_train, X_train, y_train, y_train)\n",
    "models_test,predictions_test = clf.fit(X_train, X_test, y_train, y_test)"
   ]
  },
  {
   "cell_type": "code",
   "execution_count": null,
   "metadata": {
    "executionInfo": {
     "elapsed": 9,
     "status": "aborted",
     "timestamp": 1694784444996,
     "user": {
      "displayName": "Leonardo de Oliveira Paschoal",
      "userId": "07757218287866540915"
     },
     "user_tz": 180
    },
    "id": "jlu6rioMb5pM"
   },
   "outputs": [],
   "source": [
    "# Prints the model performance (Training set)\n",
    "models_train"
   ]
  },
  {
   "cell_type": "code",
   "execution_count": null,
   "metadata": {
    "executionInfo": {
     "elapsed": 9,
     "status": "aborted",
     "timestamp": 1694784444996,
     "user": {
      "displayName": "Leonardo de Oliveira Paschoal",
      "userId": "07757218287866540915"
     },
     "user_tz": 180
    },
    "id": "MFuuVXtQb8bi"
   },
   "outputs": [],
   "source": [
    "# Prints the model performance (Test set)\n",
    "models_test"
   ]
  },
  {
   "cell_type": "code",
   "execution_count": null,
   "metadata": {
    "executionInfo": {
     "elapsed": 9,
     "status": "aborted",
     "timestamp": 1694784444996,
     "user": {
      "displayName": "Leonardo de Oliveira Paschoal",
      "userId": "07757218287866540915"
     },
     "user_tz": 180
    },
    "id": "n551PNfGJo9Q"
   },
   "outputs": [],
   "source": [
    "y_test"
   ]
  },
  {
   "cell_type": "code",
   "execution_count": null,
   "metadata": {
    "executionInfo": {
     "elapsed": 10,
     "status": "aborted",
     "timestamp": 1694784444997,
     "user": {
      "displayName": "Leonardo de Oliveira Paschoal",
      "userId": "07757218287866540915"
     },
     "user_tz": 180
    },
    "id": "4ONmPLKdcKP4"
   },
   "outputs": [],
   "source": [
    "# Plot of Accuracy\n",
    "import matplotlib.pyplot as plt\n",
    "import seaborn as sns\n",
    "\n",
    "plt.figure(figsize=(5, 10))\n",
    "sns.set_theme(style=\"whitegrid\")\n",
    "ax = sns.barplot(y=models_train.index, x=\"Accuracy\", data=models_train)\n",
    "ax.set(xlim=(0, 1))"
   ]
  },
  {
   "cell_type": "code",
   "execution_count": null,
   "metadata": {
    "executionInfo": {
     "elapsed": 8,
     "status": "aborted",
     "timestamp": 1694784444997,
     "user": {
      "displayName": "Leonardo de Oliveira Paschoal",
      "userId": "07757218287866540915"
     },
     "user_tz": 180
    },
    "id": "Bse08KSUW1FJ"
   },
   "outputs": [],
   "source": [
    "# Plot of MCC\n",
    "import matplotlib.pyplot as plt\n",
    "import seaborn as sns\n",
    "\n",
    "plt.figure(figsize=(5, 10))\n",
    "sns.set_theme(style=\"whitegrid\")\n",
    "ax = sns.barplot(y=models_train.index, x=\"matthews_corrcoef\", data=models_train)\n",
    "ax.set(xlim=(0, 1))"
   ]
  },
  {
   "cell_type": "markdown",
   "metadata": {
    "id": "CvITCk5anJ96"
   },
   "source": [
    "---"
   ]
  },
  {
   "cell_type": "markdown",
   "metadata": {
    "id": "TOViHgf40APL"
   },
   "source": [
    "# **Random Forest**"
   ]
  },
  {
   "cell_type": "code",
   "execution_count": null,
   "metadata": {
    "executionInfo": {
     "elapsed": 178932,
     "status": "aborted",
     "timestamp": 1694784444998,
     "user": {
      "displayName": "Leonardo de Oliveira Paschoal",
      "userId": "07757218287866540915"
     },
     "user_tz": 180
    },
    "id": "XdUSfIuzjBhR"
   },
   "outputs": [],
   "source": [
    "# Build random forest model\n",
    "\n",
    "from sklearn.ensemble import RandomForestClassifier\n",
    "\n",
    "rf = RandomForestClassifier(n_estimators=500)\n",
    "\n",
    "rf.fit(X_train, y_train)"
   ]
  },
  {
   "cell_type": "markdown",
   "metadata": {
    "id": "ZK0-qLC2EfYh"
   },
   "source": [
    "### **Apply the model to make predictions**"
   ]
  },
  {
   "cell_type": "code",
   "execution_count": null,
   "metadata": {
    "executionInfo": {
     "elapsed": 178931,
     "status": "aborted",
     "timestamp": 1694784444999,
     "user": {
      "displayName": "Leonardo de Oliveira Paschoal",
      "userId": "07757218287866540915"
     },
     "user_tz": 180
    },
    "id": "dKaPjMqPCAIn"
   },
   "outputs": [],
   "source": [
    "y_train_pred = rf.predict(X_train)\n",
    "y_test_pred = rf.predict(X_test)"
   ]
  },
  {
   "cell_type": "markdown",
   "metadata": {
    "id": "kgQJf77qESEY"
   },
   "source": [
    "### **Model performance**"
   ]
  },
  {
   "cell_type": "code",
   "execution_count": null,
   "metadata": {
    "executionInfo": {
     "elapsed": 178928,
     "status": "aborted",
     "timestamp": 1694784444999,
     "user": {
      "displayName": "Leonardo de Oliveira Paschoal",
      "userId": "07757218287866540915"
     },
     "user_tz": 180
    },
    "id": "UeyTuwVgJ04u"
   },
   "outputs": [],
   "source": [
    "feature['class']"
   ]
  },
  {
   "cell_type": "code",
   "execution_count": null,
   "metadata": {
    "executionInfo": {
     "elapsed": 7,
     "status": "aborted",
     "timestamp": 1694784445283,
     "user": {
      "displayName": "Leonardo de Oliveira Paschoal",
      "userId": "07757218287866540915"
     },
     "user_tz": 180
    },
    "id": "FUnTxl_IdE4h"
   },
   "outputs": [],
   "source": [
    "# Simplest and quickest way to obtain the model performance (Accuracy)\n",
    "rf.score(X_test,y_test)"
   ]
  },
  {
   "cell_type": "code",
   "execution_count": null,
   "metadata": {
    "executionInfo": {
     "elapsed": 6,
     "status": "aborted",
     "timestamp": 1694784445283,
     "user": {
      "displayName": "Leonardo de Oliveira Paschoal",
      "userId": "07757218287866540915"
     },
     "user_tz": 180
    },
    "id": "NM6v2tmNCOxI"
   },
   "outputs": [],
   "source": [
    "# Accuracy\n",
    "from sklearn.metrics import accuracy_score\n",
    "\n",
    "accuracy_score(y_test, y_test_pred)"
   ]
  },
  {
   "cell_type": "code",
   "execution_count": null,
   "metadata": {
    "executionInfo": {
     "elapsed": 6,
     "status": "aborted",
     "timestamp": 1694784445283,
     "user": {
      "displayName": "Leonardo de Oliveira Paschoal",
      "userId": "07757218287866540915"
     },
     "user_tz": 180
    },
    "id": "WVM2CLaCerwd"
   },
   "outputs": [],
   "source": [
    "# Matthew Correlation Coefficient\n",
    "from sklearn.metrics import matthews_corrcoef\n",
    "\n",
    "matthews_corrcoef(y_test, y_test_pred)"
   ]
  },
  {
   "cell_type": "code",
   "execution_count": null,
   "metadata": {
    "executionInfo": {
     "elapsed": 7,
     "status": "aborted",
     "timestamp": 1694784445284,
     "user": {
      "displayName": "Leonardo de Oliveira Paschoal",
      "userId": "07757218287866540915"
     },
     "user_tz": 180
    },
    "id": "9TYgRG7_Jl_y"
   },
   "outputs": [],
   "source": [
    "# Confusion matrix\n",
    "from sklearn.metrics import confusion_matrix\n",
    "\n",
    "confusion_matrix(y_test, y_test_pred)"
   ]
  },
  {
   "cell_type": "code",
   "execution_count": null,
   "metadata": {
    "executionInfo": {
     "elapsed": 7,
     "status": "aborted",
     "timestamp": 1694784445284,
     "user": {
      "displayName": "Leonardo de Oliveira Paschoal",
      "userId": "07757218287866540915"
     },
     "user_tz": 180
    },
    "id": "Dy-_js-7E8Ag"
   },
   "outputs": [],
   "source": [
    "# Classification report\n",
    "from sklearn.metrics import classification_report\n",
    "\n",
    "model_report = classification_report(y_train, y_train_pred, target_names=['positive','negative'])\n",
    "\n",
    "f = open('model_report.txt','w')\n",
    "f.writelines(model_report)\n",
    "f.close()"
   ]
  },
  {
   "cell_type": "code",
   "execution_count": null,
   "metadata": {
    "executionInfo": {
     "elapsed": 6,
     "status": "aborted",
     "timestamp": 1694784445284,
     "user": {
      "displayName": "Leonardo de Oliveira Paschoal",
      "userId": "07757218287866540915"
     },
     "user_tz": 180
    },
    "id": "TR625VQXH0WP"
   },
   "outputs": [],
   "source": [
    "# ROC curve\n",
    "import matplotlib.pyplot as plt\n",
    "from sklearn.metrics import RocCurveDisplay\n",
    "\n",
    "RocCurveDisplay.from_estimator(rf, X_test, y_test)\n",
    "plt.show()"
   ]
  },
  {
   "cell_type": "code",
   "execution_count": null,
   "metadata": {
    "executionInfo": {
     "elapsed": 6,
     "status": "aborted",
     "timestamp": 1694784445284,
     "user": {
      "displayName": "Leonardo de Oliveira Paschoal",
      "userId": "07757218287866540915"
     },
     "user_tz": 180
    },
    "id": "ImazzUEwLhjE"
   },
   "outputs": [],
   "source": [
    "RocCurveDisplay.from_estimator(rf, X_train, y_train)\n",
    "plt.show()"
   ]
  },
  {
   "cell_type": "markdown",
   "metadata": {
    "id": "y-EaFk3SnLvc"
   },
   "source": [
    "### **Feature importance**"
   ]
  },
  {
   "cell_type": "code",
   "execution_count": null,
   "metadata": {
    "executionInfo": {
     "elapsed": 7,
     "status": "aborted",
     "timestamp": 1694784445285,
     "user": {
      "displayName": "Leonardo de Oliveira Paschoal",
      "userId": "07757218287866540915"
     },
     "user_tz": 180
    },
    "id": "ak50KFHNxmYo"
   },
   "outputs": [],
   "source": [
    "# Display Dataframe of the dataset after feature selection (variance threshold)\n",
    "X2"
   ]
  },
  {
   "cell_type": "code",
   "execution_count": null,
   "metadata": {
    "executionInfo": {
     "elapsed": 7,
     "status": "aborted",
     "timestamp": 1694784445285,
     "user": {
      "displayName": "Leonardo de Oliveira Paschoal",
      "userId": "07757218287866540915"
     },
     "user_tz": 180
    },
    "id": "ZFdeHIRXuqo_"
   },
   "outputs": [],
   "source": [
    "# Retrieve feature importance from the RF model\n",
    "importance = pd.Series(rf.feature_importances_, name = 'Gini')\n",
    "\n",
    "# Retrieve feature names\n",
    "feature_names = pd.Series(X2.columns, name = 'Feature')"
   ]
  },
  {
   "cell_type": "code",
   "execution_count": null,
   "metadata": {
    "executionInfo": {
     "elapsed": 7,
     "status": "aborted",
     "timestamp": 1694784445285,
     "user": {
      "displayName": "Leonardo de Oliveira Paschoal",
      "userId": "07757218287866540915"
     },
     "user_tz": 180
    },
    "id": "Cq4r6KsC_tb5"
   },
   "outputs": [],
   "source": [
    "# Combine feature names and Gini values into a Dataframe\n",
    "df = pd.concat([feature_names, importance], axis=1, names=['Feature', 'Gini'])\n",
    "df"
   ]
  },
  {
   "cell_type": "code",
   "execution_count": null,
   "metadata": {
    "executionInfo": {
     "elapsed": 7,
     "status": "aborted",
     "timestamp": 1694784445285,
     "user": {
      "displayName": "Leonardo de Oliveira Paschoal",
      "userId": "07757218287866540915"
     },
     "user_tz": 180
    },
    "id": "xWHo58SIu1RU"
   },
   "outputs": [],
   "source": [
    "# Plot of feature importance\n",
    "import matplotlib.pyplot as plt\n",
    "import seaborn as sns\n",
    "\n",
    "df_sorted = df.sort_values('Gini', ascending=False)[:20] # Sort by Gini in descending order; Showing only the top 20 results\n",
    "\n",
    "plt.figure(figsize=(5, 10))\n",
    "sns.set_theme(style=\"whitegrid\")\n",
    "ax = sns.barplot(x = 'Gini', y = 'Feature', data = df_sorted)\n",
    "plt.xlabel(\"Feature Importance\")"
   ]
  },
  {
   "cell_type": "markdown",
   "metadata": {
    "id": "TuPnx5mWeizm"
   },
   "source": [
    "---"
   ]
  }
 ],
 "metadata": {
  "colab": {
   "provenance": []
  },
  "kernelspec": {
   "display_name": "Python 3 (ipykernel)",
   "language": "python",
   "name": "python3"
  },
  "language_info": {
   "codemirror_mode": {
    "name": "ipython",
    "version": 3
   },
   "file_extension": ".py",
   "mimetype": "text/x-python",
   "name": "python",
   "nbconvert_exporter": "python",
   "pygments_lexer": "ipython3",
   "version": "3.9.18"
  }
 },
 "nbformat": 4,
 "nbformat_minor": 1
}
